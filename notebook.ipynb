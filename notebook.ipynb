{
 "cells": [
  {
   "cell_type": "markdown",
   "id": "29a671f5",
   "metadata": {},
   "source": [
    "# Markowitz Model\n",
    "Python implementation of the markowitz model, given expected returns and covariance matrix."
   ]
  },
  {
   "cell_type": "code",
   "execution_count": 1,
   "id": "10625dec",
   "metadata": {},
   "outputs": [],
   "source": [
    "import numpy as np \n",
    "import scipy.stats as stats\n",
    "import matplotlib.pyplot as plt\n",
    "import pandas as pd\n",
    "from scipy import stats\n",
    "import cvxpy as cp\n",
    "import yfinance as yf\n",
    "import plotly.express as px\n",
    "from markowitz import *"
   ]
  },
  {
   "cell_type": "markdown",
   "id": "4bf52143",
   "metadata": {},
   "source": [
    "## Model Inputs\n",
    "Assuming the expected returns are equal to the average of the historical returns is indeed erroneus. It suggests trend-stationary time series and we know that even if we accept the weiner process assumption about the prices, the parameters of the process can vary across different time windows. For simplicity and need for inputs to the model, we will use historical moments."
   ]
  },
  {
   "cell_type": "code",
   "execution_count": 2,
   "id": "c0979ceb",
   "metadata": {},
   "outputs": [],
   "source": [
    "get_history = lambda ticker: yf.Ticker(ticker).history(\"1y\")[\"Close\"].pct_change(1).to_numpy()[5:]\n",
    "\n",
    "s1 = get_history(\"SASA.IS\")\n",
    "s2 = get_history(\"QUAGR.IS\")\n",
    "s3 = get_history(\"SASA.IS\")\n",
    "s4 = get_history(\"SAHOL.IS\")\n",
    "s5 = get_history(\"YKBNK.IS\")"
   ]
  },
  {
   "cell_type": "code",
   "execution_count": 3,
   "id": "24c183b1",
   "metadata": {},
   "outputs": [
    {
     "name": "stdout",
     "output_type": "stream",
     "text": [
      "Expected Returns:\n",
      " [ 0.0012344  -0.00158661  0.0012344   0.00397837  0.00508667]\n",
      "Covariance matrix:\n",
      " [[1.07643948e-03 2.57116599e-04 1.07643948e-03 3.37078851e-04\n",
      "  2.94572780e-04]\n",
      " [2.57116599e-04 8.68971163e-04 2.57116599e-04 1.48168704e-04\n",
      "  9.69006156e-05]\n",
      " [1.07643948e-03 2.57116599e-04 1.07643948e-03 3.37078851e-04\n",
      "  2.94572780e-04]\n",
      " [3.37078851e-04 1.48168704e-04 3.37078851e-04 6.80297365e-04\n",
      "  4.85946949e-04]\n",
      " [2.94572780e-04 9.69006156e-05 2.94572780e-04 4.85946949e-04\n",
      "  9.40616492e-04]]\n",
      "Correlation matrix:\n",
      " [[1.         0.26584753 1.         0.3939012  0.29274636]\n",
      " [0.26584753 1.         0.26584753 0.19271007 0.10718094]\n",
      " [1.         0.26584753 1.         0.3939012  0.29274636]\n",
      " [0.3939012  0.19271007 0.3939012  1.         0.60748166]\n",
      " [0.29274636 0.10718094 0.29274636 0.60748166 1.        ]]\n"
     ]
    }
   ],
   "source": [
    "R = np.array([s1.mean(),s2.mean(),s3.mean(),s4.mean(),s5.mean()]) # expected returns\n",
    "C = np.cov(np.array([s1,s2,s3,s4,s5])) # covariance matrix\n",
    "print(\"Expected Returns:\\n\",R)\n",
    "print(\"Covariance matrix:\\n\",C) \n",
    "print(\"Correlation matrix:\\n\",np.corrcoef(np.array([s1,s2,s3,s4,s5])))"
   ]
  },
  {
   "cell_type": "code",
   "execution_count": 4,
   "id": "432788da",
   "metadata": {
    "scrolled": true
   },
   "outputs": [
    {
     "data": {
      "text/plain": [
       "array([0.07195286, 0.35126476, 0.07195286, 0.31648497, 0.18834454])"
      ]
     },
     "execution_count": 4,
     "metadata": {},
     "output_type": "execute_result"
    }
   ],
   "source": [
    "w = optimize_rmin(R,C,0) # just minimize variance without regarding the return\n",
    "w.value"
   ]
  },
  {
   "cell_type": "code",
   "execution_count": 5,
   "id": "037f418a",
   "metadata": {},
   "outputs": [
    {
     "data": {
      "image/png": "[encoded data removed]",
      "text/plain": [
       "<Figure size 432x288 with 1 Axes>"
      ]
     },
     "metadata": {
      "needs_background": "light"
     },
     "output_type": "display_data"
    }
   ],
   "source": [
    "# plot the efficient frontier\n",
    "plot_efficient_frontier(R,C,100)\n",
    "plt.show()"
   ]
  },
  {
   "cell_type": "code",
   "execution_count": 6,
   "id": "f44f5c41",
   "metadata": {},
   "outputs": [
    {
     "data": {
      "text/plain": [
       "array([0.        , 0.        , 0.        , 0.43895826, 0.56104174])"
      ]
     },
     "execution_count": 6,
     "metadata": {},
     "output_type": "execute_result"
    }
   ],
   "source": [
    "# market portfolio when risk-free rate equals 0\n",
    "find_market_portfolio(R,C,rf=0.0)"
   ]
  },
  {
   "cell_type": "code",
   "execution_count": 7,
   "id": "15a65c36",
   "metadata": {},
   "outputs": [
    {
     "data": {
      "image/png": "[encoded data removed]",
      "text/plain": [
       "<Figure size 432x288 with 1 Axes>"
      ]
     },
     "metadata": {
      "needs_background": "light"
     },
     "output_type": "display_data"
    },
    {
     "name": "stdout",
     "output_type": "stream",
     "text": [
      "sharpe for risk free overnigh 0: 0.17820357496807757\n"
     ]
    }
   ],
   "source": [
    "# plot of the sharpe ratio and overall efficient frontier\n",
    "rf = 0\n",
    "plot_efficient_frontier(R,C,100)\n",
    "w_best = find_market_portfolio(R,C,rf,100)\n",
    "plt.plot([0,np.sqrt(w_best.T@C@w_best)],[rf,w_best@R],color=\"red\")\n",
    "plt.show()\n",
    "print(f\"sharpe for risk free overnigh {rf}:\",(w_best@R-rf)/np.sqrt(w_best.T@C@w_best))"
   ]
  },
  {
   "cell_type": "markdown",
   "id": "9e579fc7",
   "metadata": {},
   "source": [
    "## Effect of the Risk-Free Rate \n",
    "The risk free rate changes the market portfolio. Below, consider the changing risk-free rate as available (or mandatory for negative rates) by a single agent since the changing publicly available risk-free rate changes the expected returns and variances in real life."
   ]
  },
  {
   "cell_type": "code",
   "execution_count": null,
   "id": "6f5a5b4f",
   "metadata": {},
   "outputs": [],
   "source": [
    "rf_set = np.linspace(0,max(R)-1e-8,30)\n",
    "portfolio_set = [find_market_portfolio(R,C,rf,30,epsilon=-1e-7) for rf in rf_set] \n",
    "return_set = [x@R for x in portfolio_set]\n",
    "std_set = [np.sqrt(x.T@C@x) for x in portfolio_set]\n",
    "sharpe_set = [sharpe(x,rf,C,R) for x in portfolio_set]"
   ]
  },
  {
   "cell_type": "code",
   "execution_count": null,
   "id": "19796e43",
   "metadata": {},
   "outputs": [],
   "source": [
    "fig = px.line_3d(x=rf_set, y=std_set, z=return_set,\n",
    "                 labels={\"x\":\"risk-free rate\",\"y\":\"std (without rf)\",\"z\":\"return (without rf)\"})\n",
    "fig.show()"
   ]
  }
 ],
 "metadata": {
  "kernelspec": {
   "display_name": "Python 3 (ipykernel)",
   "language": "python",
   "name": "python3"
  },
  "language_info": {
   "codemirror_mode": {
    "name": "ipython",
    "version": 3
   },
   "file_extension": ".py",
   "mimetype": "text/x-python",
   "name": "python",
   "nbconvert_exporter": "python",
   "pygments_lexer": "ipython3",
   "version": "3.8.10"
  }
 },
 "nbformat": 4,
 "nbformat_minor": 5
}
